{
 "cells": [
  {
   "cell_type": "code",
   "execution_count": 1,
   "id": "948835a1",
   "metadata": {},
   "outputs": [
    {
     "name": "stdout",
     "output_type": "stream",
     "text": [
      "first project\n"
     ]
    }
   ],
   "source": [
    "print ('first project')"
   ]
  },
  {
   "cell_type": "code",
   "execution_count": 2,
   "id": "fd1701fc",
   "metadata": {},
   "outputs": [],
   "source": [
    "import pandas as pd"
   ]
  },
  {
   "cell_type": "code",
   "execution_count": 4,
   "id": "d2c7ac08",
   "metadata": {},
   "outputs": [],
   "source": [
    "df = pd.read_csv('data.csv')"
   ]
  },
  {
   "cell_type": "code",
   "execution_count": 5,
   "id": "8ea2b8a6",
   "metadata": {},
   "outputs": [
    {
     "data": {
      "text/html": [
       "<div>\n",
       "<style scoped>\n",
       "    .dataframe tbody tr th:only-of-type {\n",
       "        vertical-align: middle;\n",
       "    }\n",
       "\n",
       "    .dataframe tbody tr th {\n",
       "        vertical-align: top;\n",
       "    }\n",
       "\n",
       "    .dataframe thead th {\n",
       "        text-align: right;\n",
       "    }\n",
       "</style>\n",
       "<table border=\"1\" class=\"dataframe\">\n",
       "  <thead>\n",
       "    <tr style=\"text-align: right;\">\n",
       "      <th></th>\n",
       "      <th>Unnamed: 0</th>\n",
       "      <th>date</th>\n",
       "      <th>open</th>\n",
       "      <th>close</th>\n",
       "      <th>high</th>\n",
       "      <th>low</th>\n",
       "    </tr>\n",
       "  </thead>\n",
       "  <tbody>\n",
       "    <tr>\n",
       "      <th>0</th>\n",
       "      <td>0</td>\n",
       "      <td>2022-03-03 03:00:00</td>\n",
       "      <td>0.032563</td>\n",
       "      <td>0.031506</td>\n",
       "      <td>0.032566</td>\n",
       "      <td>0.031161</td>\n",
       "    </tr>\n",
       "    <tr>\n",
       "      <th>1</th>\n",
       "      <td>1</td>\n",
       "      <td>2022-03-03 07:00:00</td>\n",
       "      <td>0.031507</td>\n",
       "      <td>0.031218</td>\n",
       "      <td>0.031519</td>\n",
       "      <td>0.030890</td>\n",
       "    </tr>\n",
       "    <tr>\n",
       "      <th>2</th>\n",
       "      <td>2</td>\n",
       "      <td>2022-03-03 11:00:00</td>\n",
       "      <td>0.031220</td>\n",
       "      <td>0.030416</td>\n",
       "      <td>0.031502</td>\n",
       "      <td>0.030416</td>\n",
       "    </tr>\n",
       "    <tr>\n",
       "      <th>3</th>\n",
       "      <td>3</td>\n",
       "      <td>2022-03-03 15:00:00</td>\n",
       "      <td>0.030507</td>\n",
       "      <td>0.028562</td>\n",
       "      <td>0.030575</td>\n",
       "      <td>0.028275</td>\n",
       "    </tr>\n",
       "    <tr>\n",
       "      <th>4</th>\n",
       "      <td>4</td>\n",
       "      <td>2022-03-03 19:00:00</td>\n",
       "      <td>0.028562</td>\n",
       "      <td>0.029070</td>\n",
       "      <td>0.029790</td>\n",
       "      <td>0.028191</td>\n",
       "    </tr>\n",
       "  </tbody>\n",
       "</table>\n",
       "</div>"
      ],
      "text/plain": [
       "   Unnamed: 0                 date      open     close      high       low\n",
       "0           0  2022-03-03 03:00:00  0.032563  0.031506  0.032566  0.031161\n",
       "1           1  2022-03-03 07:00:00  0.031507  0.031218  0.031519  0.030890\n",
       "2           2  2022-03-03 11:00:00  0.031220  0.030416  0.031502  0.030416\n",
       "3           3  2022-03-03 15:00:00  0.030507  0.028562  0.030575  0.028275\n",
       "4           4  2022-03-03 19:00:00  0.028562  0.029070  0.029790  0.028191"
      ]
     },
     "execution_count": 5,
     "metadata": {},
     "output_type": "execute_result"
    }
   ],
   "source": [
    "df.head()"
   ]
  },
  {
   "cell_type": "code",
   "execution_count": 7,
   "id": "67f7f600",
   "metadata": {},
   "outputs": [
    {
     "name": "stdout",
     "output_type": "stream",
     "text": [
      "changed to commit\n"
     ]
    }
   ],
   "source": [
    "print ('changed to commit')"
   ]
  },
  {
   "cell_type": "code",
   "execution_count": 8,
   "id": "56874941",
   "metadata": {},
   "outputs": [
    {
     "data": {
      "text/plain": [
       "2536"
      ]
     },
     "execution_count": 8,
     "metadata": {},
     "output_type": "execute_result"
    }
   ],
   "source": [
    "df.shape[0]"
   ]
  },
  {
   "cell_type": "code",
   "execution_count": 9,
   "id": "87f24b50",
   "metadata": {},
   "outputs": [],
   "source": [
    "df = df.iloc[:1000, :]"
   ]
  },
  {
   "cell_type": "code",
   "execution_count": 10,
   "id": "da1744bc",
   "metadata": {},
   "outputs": [
    {
     "data": {
      "text/plain": [
       "1000"
      ]
     },
     "execution_count": 10,
     "metadata": {},
     "output_type": "execute_result"
    }
   ],
   "source": [
    "df.shape[0]"
   ]
  },
  {
   "cell_type": "code",
   "execution_count": 11,
   "id": "c53f1b47",
   "metadata": {},
   "outputs": [
    {
     "data": {
      "text/html": [
       "<div>\n",
       "<style scoped>\n",
       "    .dataframe tbody tr th:only-of-type {\n",
       "        vertical-align: middle;\n",
       "    }\n",
       "\n",
       "    .dataframe tbody tr th {\n",
       "        vertical-align: top;\n",
       "    }\n",
       "\n",
       "    .dataframe thead th {\n",
       "        text-align: right;\n",
       "    }\n",
       "</style>\n",
       "<table border=\"1\" class=\"dataframe\">\n",
       "  <thead>\n",
       "    <tr style=\"text-align: right;\">\n",
       "      <th></th>\n",
       "      <th>Unnamed: 0</th>\n",
       "      <th>date</th>\n",
       "      <th>open</th>\n",
       "      <th>close</th>\n",
       "      <th>high</th>\n",
       "      <th>low</th>\n",
       "    </tr>\n",
       "  </thead>\n",
       "  <tbody>\n",
       "    <tr>\n",
       "      <th>0</th>\n",
       "      <td>0</td>\n",
       "      <td>2022-03-03 03:00:00</td>\n",
       "      <td>0.032563</td>\n",
       "      <td>0.031506</td>\n",
       "      <td>0.032566</td>\n",
       "      <td>0.031161</td>\n",
       "    </tr>\n",
       "    <tr>\n",
       "      <th>1</th>\n",
       "      <td>1</td>\n",
       "      <td>2022-03-03 07:00:00</td>\n",
       "      <td>0.031507</td>\n",
       "      <td>0.031218</td>\n",
       "      <td>0.031519</td>\n",
       "      <td>0.030890</td>\n",
       "    </tr>\n",
       "    <tr>\n",
       "      <th>2</th>\n",
       "      <td>2</td>\n",
       "      <td>2022-03-03 11:00:00</td>\n",
       "      <td>0.031220</td>\n",
       "      <td>0.030416</td>\n",
       "      <td>0.031502</td>\n",
       "      <td>0.030416</td>\n",
       "    </tr>\n",
       "    <tr>\n",
       "      <th>3</th>\n",
       "      <td>3</td>\n",
       "      <td>2022-03-03 15:00:00</td>\n",
       "      <td>0.030507</td>\n",
       "      <td>0.028562</td>\n",
       "      <td>0.030575</td>\n",
       "      <td>0.028275</td>\n",
       "    </tr>\n",
       "    <tr>\n",
       "      <th>4</th>\n",
       "      <td>4</td>\n",
       "      <td>2022-03-03 19:00:00</td>\n",
       "      <td>0.028562</td>\n",
       "      <td>0.029070</td>\n",
       "      <td>0.029790</td>\n",
       "      <td>0.028191</td>\n",
       "    </tr>\n",
       "  </tbody>\n",
       "</table>\n",
       "</div>"
      ],
      "text/plain": [
       "   Unnamed: 0                 date      open     close      high       low\n",
       "0           0  2022-03-03 03:00:00  0.032563  0.031506  0.032566  0.031161\n",
       "1           1  2022-03-03 07:00:00  0.031507  0.031218  0.031519  0.030890\n",
       "2           2  2022-03-03 11:00:00  0.031220  0.030416  0.031502  0.030416\n",
       "3           3  2022-03-03 15:00:00  0.030507  0.028562  0.030575  0.028275\n",
       "4           4  2022-03-03 19:00:00  0.028562  0.029070  0.029790  0.028191"
      ]
     },
     "execution_count": 11,
     "metadata": {},
     "output_type": "execute_result"
    }
   ],
   "source": [
    "df.head()"
   ]
  },
  {
   "cell_type": "code",
   "execution_count": 12,
   "id": "9ed07422",
   "metadata": {},
   "outputs": [],
   "source": [
    "df.to_csv('data.csv')"
   ]
  },
  {
   "cell_type": "code",
   "execution_count": 13,
   "id": "0b95788d",
   "metadata": {},
   "outputs": [
    {
     "name": "stdout",
     "output_type": "stream",
     "text": [
      "Переходим в ветку тест\n"
     ]
    }
   ],
   "source": [
    "print ('Переходим в ветку тест')"
   ]
  },
  {
   "cell_type": "code",
   "execution_count": null,
   "id": "ec44d686",
   "metadata": {},
   "outputs": [],
   "source": []
  }
 ],
 "metadata": {
  "kernelspec": {
   "display_name": "Python 3 (ipykernel)",
   "language": "python",
   "name": "python3"
  },
  "language_info": {
   "codemirror_mode": {
    "name": "ipython",
    "version": 3
   },
   "file_extension": ".py",
   "mimetype": "text/x-python",
   "name": "python",
   "nbconvert_exporter": "python",
   "pygments_lexer": "ipython3",
   "version": "3.9.13"
  }
 },
 "nbformat": 4,
 "nbformat_minor": 5
}
